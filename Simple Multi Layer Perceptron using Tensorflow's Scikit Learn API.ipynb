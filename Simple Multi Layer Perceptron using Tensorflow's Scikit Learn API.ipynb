{
 "cells": [
  {
   "cell_type": "markdown",
   "metadata": {},
   "source": [
    "## Simple Multi Layer Perceptron using Tensorflow"
   ]
  },
  {
   "cell_type": "markdown",
   "metadata": {},
   "source": [
    "### Read the data"
   ]
  },
  {
   "cell_type": "code",
   "execution_count": 60,
   "metadata": {},
   "outputs": [
    {
     "name": "stdout",
     "output_type": "stream",
     "text": [
      "--2019-03-24 15:15:29--  https://archive.ics.uci.edu/ml/machine-learning-databases/heart-disease/processed.cleveland.data\n",
      "Resolving archive.ics.uci.edu (archive.ics.uci.edu)... 128.195.10.249\n",
      "Connecting to archive.ics.uci.edu (archive.ics.uci.edu)|128.195.10.249|:443... connected.\n",
      "HTTP request sent, awaiting response... 200 OK\n",
      "Length: 18461 (18K) [text/plain]\n",
      "Saving to: ‘processed.cleveland.data.1’\n",
      "\n",
      "processed.cleveland 100%[===================>]  18.03K   103KB/s    in 0.2s    \n",
      "\n",
      "2019-03-24 15:15:30 (103 KB/s) - ‘processed.cleveland.data.1’ saved [18461/18461]\n",
      "\n"
     ]
    }
   ],
   "source": [
    "# https://archive.ics.uci.edu/ml/machine-learning-databases/heart-disease/processed.cleveland.data\n",
    "# heart desease\n",
    "! wget https://archive.ics.uci.edu/ml/machine-learning-databases/heart-disease/processed.cleveland.data"
   ]
  },
  {
   "cell_type": "code",
   "execution_count": 61,
   "metadata": {},
   "outputs": [
    {
     "name": "stdout",
     "output_type": "stream",
     "text": [
      "63.0,1.0,1.0,145.0,233.0,1.0,2.0,150.0,0.0,2.3,3.0,0.0,6.0,0\r\n",
      "67.0,1.0,4.0,160.0,286.0,0.0,2.0,108.0,1.0,1.5,2.0,3.0,3.0,2\r\n",
      "67.0,1.0,4.0,120.0,229.0,0.0,2.0,129.0,1.0,2.6,2.0,2.0,7.0,1\r\n",
      "37.0,1.0,3.0,130.0,250.0,0.0,0.0,187.0,0.0,3.5,3.0,0.0,3.0,0\r\n",
      "41.0,0.0,2.0,130.0,204.0,0.0,2.0,172.0,0.0,1.4,1.0,0.0,3.0,0\r\n",
      "56.0,1.0,2.0,120.0,236.0,0.0,0.0,178.0,0.0,0.8,1.0,0.0,3.0,0\r\n",
      "62.0,0.0,4.0,140.0,268.0,0.0,2.0,160.0,0.0,3.6,3.0,2.0,3.0,3\r\n",
      "57.0,0.0,4.0,120.0,354.0,0.0,0.0,163.0,1.0,0.6,1.0,0.0,3.0,0\r\n",
      "63.0,1.0,4.0,130.0,254.0,0.0,2.0,147.0,0.0,1.4,2.0,1.0,7.0,2\r\n",
      "53.0,1.0,4.0,140.0,203.0,1.0,2.0,155.0,1.0,3.1,3.0,0.0,7.0,1\r\n"
     ]
    }
   ],
   "source": [
    "! head ./processed.cleveland.data\n",
    "#header=[\"age\",\"sex\",\"chestPainType\",\"RestingBloodPressure\",\"cholestoral\",\"bloodSugar\",\"restingElectroCardio\",\"maxHeartRate\"\n",
    "#,\"excerciseInducedAngine\",\"oldpeak\",\"slope\",\"numColoredVessels\",\"thal\",\"target\"]"
   ]
  },
  {
   "cell_type": "code",
   "execution_count": 75,
   "metadata": {},
   "outputs": [
    {
     "data": {
      "text/plain": [
       "(array([[63.,  1.,  1., ...,  3.,  0.,  6.],\n",
       "        [67.,  1.,  4., ...,  2.,  3.,  3.],\n",
       "        [67.,  1.,  4., ...,  2.,  2.,  7.],\n",
       "        ...,\n",
       "        [57.,  1.,  4., ...,  2.,  1.,  7.],\n",
       "        [57.,  0.,  2., ...,  2.,  1.,  3.],\n",
       "        [38.,  1.,  3., ...,  1., -1.,  3.]], dtype=float32),\n",
       " array([0, 2, 1, 0, 0, 0, 3, 0, 2, 1, 0, 0, 2, 0, 0, 0, 1, 0, 0, 0, 0, 0,\n",
       "        1, 3, 4, 0, 0, 0, 0, 3, 0, 2, 1, 0, 0, 0, 3, 1, 3, 0, 4, 0, 0, 0,\n",
       "        1, 4, 0, 4, 0, 0, 0, 0, 2, 0, 1, 1, 1, 1, 0, 0, 2, 0, 1, 0, 2, 2,\n",
       "        1, 0, 2, 1, 0, 3, 1, 1, 1, 0, 1, 0, 0, 3, 0, 0, 0, 3, 0, 0, 0, 0,\n",
       "        0, 0, 0, 3, 0, 0, 0, 1, 2, 3, 0, 0, 0, 0, 0, 0, 3, 0, 2, 1, 2, 3,\n",
       "        1, 1, 0, 2, 2, 0, 0, 0, 3, 2, 3, 4, 0, 3, 1, 0, 3, 3, 0, 0, 0, 0,\n",
       "        0, 0, 0, 0, 4, 3, 1, 0, 0, 1, 0, 1, 0, 1, 4, 0, 0, 0, 0, 0, 0, 4,\n",
       "        3, 1, 1, 1, 2, 0, 0, 4, 0, 0, 0, 0, 0, 0, 1, 0, 3, 0, 1, 0, 4, 1,\n",
       "        0, 1, 0, 0, 3, 2, 0, 0, 1, 0, 0, 2, 1, 2, 0, 3, 1, 2, 0, 3, 0, 0,\n",
       "        0, 1, 0, 0, 0, 0, 0, 3, 3, 3, 0, 1, 0, 4, 0, 3, 1, 0, 0, 0, 0, 0,\n",
       "        0, 0, 0, 3, 1, 0, 0, 0, 3, 2, 0, 2, 1, 0, 0, 3, 2, 1, 0, 0, 0, 0,\n",
       "        0, 2, 0, 2, 2, 1, 3, 0, 0, 1, 0, 0, 0, 0, 0, 0, 0, 1, 0, 3, 0, 0,\n",
       "        4, 2, 2, 2, 1, 0, 1, 0, 2, 0, 1, 0, 0, 0, 1, 0, 2, 0, 3, 0, 2, 4,\n",
       "        2, 0, 0, 0, 1, 0, 2, 2, 1, 0, 3, 1, 1, 2, 3, 1, 0]),\n",
       " {0, 1, 2, 3, 4})"
      ]
     },
     "execution_count": 75,
     "metadata": {},
     "output_type": "execute_result"
    }
   ],
   "source": [
    "data=np.loadtxt(\"./processed.cleveland.data\",delimiter=\",\",dtype=str)\n",
    "data=np.where(data=='?',-1,data) # convert unknowns\n",
    "X,y=data[:,:13],data[:,13]\n",
    "X=np.ndarray.astype(X,np.float32)\n",
    "y=np.ndarray.astype(y,np.int)\n",
    "X,y"
   ]
  },
  {
   "cell_type": "code",
   "execution_count": 76,
   "metadata": {},
   "outputs": [
    {
     "data": {
      "text/plain": [
       "((303, 13), (303,), {0, 1, 2, 3, 4})"
      ]
     },
     "execution_count": 76,
     "metadata": {},
     "output_type": "execute_result"
    }
   ],
   "source": [
    "X.shape, y.shape, set(y)"
   ]
  },
  {
   "cell_type": "markdown",
   "metadata": {},
   "source": [
    "### Model"
   ]
  },
  {
   "cell_type": "code",
   "execution_count": 17,
   "metadata": {},
   "outputs": [],
   "source": [
    "import tensorflow as tf\n",
    "import numpy as np"
   ]
  },
  {
   "cell_type": "code",
   "execution_count": 68,
   "metadata": {},
   "outputs": [
    {
     "data": {
      "text/plain": [
       "[_RealValuedColumn(column_name='', dimension=13, default_value=None, dtype=tf.float32, normalizer=None)]"
      ]
     },
     "execution_count": 68,
     "metadata": {},
     "output_type": "execute_result"
    }
   ],
   "source": [
    "feature_columns=tf.contrib.learn.infer_real_valued_columns_from_input(X) # infer which columns to use\n",
    "feature_columns"
   ]
  },
  {
   "cell_type": "code",
   "execution_count": 141,
   "metadata": {},
   "outputs": [
    {
     "name": "stdout",
     "output_type": "stream",
     "text": [
      "INFO:tensorflow:Using default config.\n",
      "WARNING:tensorflow:Using temporary folder as model directory: /tmp/tmpqt76j4hh\n",
      "INFO:tensorflow:Using config: {'_task_type': None, '_task_id': 0, '_cluster_spec': <tensorflow.python.training.server_lib.ClusterSpec object at 0x7fade0254ef0>, '_master': '', '_num_ps_replicas': 0, '_num_worker_replicas': 0, '_environment': 'local', '_is_chief': True, '_evaluation_master': '', '_train_distribute': None, '_eval_distribute': None, '_device_fn': None, '_tf_config': gpu_options {\n",
      "  per_process_gpu_memory_fraction: 1.0\n",
      "}\n",
      ", '_tf_random_seed': None, '_save_summary_steps': 100, '_save_checkpoints_secs': 600, '_log_step_count_steps': 100, '_protocol': None, '_session_config': None, '_save_checkpoints_steps': None, '_keep_checkpoint_max': 5, '_keep_checkpoint_every_n_hours': 10000, '_model_dir': '/tmp/tmpqt76j4hh'}\n",
      "INFO:tensorflow:Create CheckpointSaverHook.\n",
      "INFO:tensorflow:Graph was finalized.\n",
      "INFO:tensorflow:Running local_init_op.\n",
      "INFO:tensorflow:Done running local_init_op.\n",
      "INFO:tensorflow:Saving checkpoints for 0 into /tmp/tmpqt76j4hh/model.ckpt.\n",
      "INFO:tensorflow:loss = 32.963, step = 1\n",
      "INFO:tensorflow:global_step/sec: 126.927\n",
      "INFO:tensorflow:loss = 1.0425048, step = 101 (0.789 sec)\n",
      "INFO:tensorflow:global_step/sec: 213.518\n",
      "INFO:tensorflow:loss = 0.9461454, step = 201 (0.468 sec)\n",
      "INFO:tensorflow:global_step/sec: 166.332\n",
      "INFO:tensorflow:loss = 0.8968189, step = 301 (0.601 sec)\n",
      "INFO:tensorflow:global_step/sec: 209.783\n",
      "INFO:tensorflow:loss = 0.79999715, step = 401 (0.476 sec)\n",
      "INFO:tensorflow:global_step/sec: 205.946\n",
      "INFO:tensorflow:loss = 0.7473833, step = 501 (0.485 sec)\n",
      "INFO:tensorflow:global_step/sec: 209.753\n",
      "INFO:tensorflow:loss = 0.71913034, step = 601 (0.477 sec)\n",
      "INFO:tensorflow:global_step/sec: 223.251\n",
      "INFO:tensorflow:loss = 0.6982462, step = 701 (0.448 sec)\n",
      "INFO:tensorflow:global_step/sec: 204.268\n",
      "INFO:tensorflow:loss = 0.6361797, step = 801 (0.489 sec)\n",
      "INFO:tensorflow:global_step/sec: 204.634\n",
      "INFO:tensorflow:loss = 0.62959856, step = 901 (0.489 sec)\n",
      "INFO:tensorflow:global_step/sec: 215.541\n",
      "INFO:tensorflow:loss = 0.55963504, step = 1001 (0.464 sec)\n",
      "INFO:tensorflow:global_step/sec: 209.558\n",
      "INFO:tensorflow:loss = 0.5399614, step = 1101 (0.477 sec)\n",
      "INFO:tensorflow:global_step/sec: 207.752\n",
      "INFO:tensorflow:loss = 0.5126775, step = 1201 (0.481 sec)\n",
      "INFO:tensorflow:global_step/sec: 208.09\n",
      "INFO:tensorflow:loss = 0.44275382, step = 1301 (0.480 sec)\n",
      "INFO:tensorflow:global_step/sec: 216.221\n",
      "INFO:tensorflow:loss = 0.42148265, step = 1401 (0.463 sec)\n",
      "INFO:tensorflow:global_step/sec: 215.758\n",
      "INFO:tensorflow:loss = 0.41020113, step = 1501 (0.464 sec)\n",
      "INFO:tensorflow:global_step/sec: 222.088\n",
      "INFO:tensorflow:loss = 0.43031517, step = 1601 (0.450 sec)\n",
      "INFO:tensorflow:global_step/sec: 214.929\n",
      "INFO:tensorflow:loss = 0.34083307, step = 1701 (0.465 sec)\n",
      "INFO:tensorflow:global_step/sec: 213.171\n",
      "INFO:tensorflow:loss = 0.3460328, step = 1801 (0.469 sec)\n",
      "INFO:tensorflow:global_step/sec: 221.187\n",
      "INFO:tensorflow:loss = 0.34881896, step = 1901 (0.452 sec)\n",
      "INFO:tensorflow:global_step/sec: 206.883\n",
      "INFO:tensorflow:loss = 0.29603636, step = 2001 (0.483 sec)\n",
      "INFO:tensorflow:global_step/sec: 206.375\n",
      "INFO:tensorflow:loss = 0.23987575, step = 2101 (0.485 sec)\n",
      "INFO:tensorflow:global_step/sec: 182.786\n",
      "INFO:tensorflow:loss = 0.2575743, step = 2201 (0.547 sec)\n",
      "INFO:tensorflow:global_step/sec: 183.25\n",
      "INFO:tensorflow:loss = 0.2473076, step = 2301 (0.546 sec)\n",
      "INFO:tensorflow:global_step/sec: 183.182\n",
      "INFO:tensorflow:loss = 0.19711441, step = 2401 (0.546 sec)\n",
      "INFO:tensorflow:global_step/sec: 186.533\n",
      "INFO:tensorflow:loss = 0.20164335, step = 2501 (0.536 sec)\n",
      "INFO:tensorflow:global_step/sec: 179.543\n",
      "INFO:tensorflow:loss = 0.19508672, step = 2601 (0.557 sec)\n",
      "INFO:tensorflow:global_step/sec: 180.691\n",
      "INFO:tensorflow:loss = 0.1754286, step = 2701 (0.554 sec)\n",
      "INFO:tensorflow:global_step/sec: 174.122\n",
      "INFO:tensorflow:loss = 0.14416051, step = 2801 (0.574 sec)\n",
      "INFO:tensorflow:global_step/sec: 189.54\n",
      "INFO:tensorflow:loss = 0.14328349, step = 2901 (0.528 sec)\n",
      "INFO:tensorflow:global_step/sec: 189.386\n",
      "INFO:tensorflow:loss = 0.116204664, step = 3001 (0.528 sec)\n",
      "INFO:tensorflow:global_step/sec: 181.12\n",
      "INFO:tensorflow:loss = 0.107641265, step = 3101 (0.552 sec)\n",
      "INFO:tensorflow:global_step/sec: 184.105\n",
      "INFO:tensorflow:loss = 0.10458191, step = 3201 (0.543 sec)\n",
      "INFO:tensorflow:global_step/sec: 183.529\n",
      "INFO:tensorflow:loss = 0.0947905, step = 3301 (0.545 sec)\n",
      "INFO:tensorflow:global_step/sec: 176.637\n",
      "INFO:tensorflow:loss = 0.08454383, step = 3401 (0.568 sec)\n",
      "INFO:tensorflow:global_step/sec: 171.488\n",
      "INFO:tensorflow:loss = 0.07836652, step = 3501 (0.581 sec)\n",
      "INFO:tensorflow:global_step/sec: 189.262\n",
      "INFO:tensorflow:loss = 0.07248532, step = 3601 (0.528 sec)\n",
      "INFO:tensorflow:global_step/sec: 192.261\n",
      "INFO:tensorflow:loss = 0.066740654, step = 3701 (0.520 sec)\n",
      "INFO:tensorflow:global_step/sec: 181.817\n",
      "INFO:tensorflow:loss = 0.057177138, step = 3801 (0.550 sec)\n",
      "INFO:tensorflow:global_step/sec: 178.455\n",
      "INFO:tensorflow:loss = 0.05280899, step = 3901 (0.561 sec)\n",
      "INFO:tensorflow:Saving checkpoints for 4000 into /tmp/tmpqt76j4hh/model.ckpt.\n",
      "INFO:tensorflow:Loss for final step: 0.04870482.\n"
     ]
    },
    {
     "data": {
      "text/plain": [
       "SKCompat()"
      ]
     },
     "execution_count": 141,
     "metadata": {},
     "output_type": "execute_result"
    }
   ],
   "source": [
    "# hard core overfit the data\n",
    "classifier=tf.contrib.learn.DNNClassifier(hidden_units=[300,300],n_classes=5,feature_columns=feature_columns)\n",
    "classifier=tf.contrib.learn.SKCompat(classifier) # class for scikit lear compatibility\n",
    "classifier.fit(X,y, batch_size=303, steps=4000)\n"
   ]
  },
  {
   "cell_type": "code",
   "execution_count": 137,
   "metadata": {},
   "outputs": [
    {
     "name": "stdout",
     "output_type": "stream",
     "text": [
      "INFO:tensorflow:Graph was finalized.\n",
      "INFO:tensorflow:Restoring parameters from /tmp/tmp51l92bpx/model.ckpt-3000\n",
      "INFO:tensorflow:Running local_init_op.\n",
      "INFO:tensorflow:Done running local_init_op.\n"
     ]
    },
    {
     "data": {
      "text/plain": [
       "{'logits': array([[10.477915 ,  6.8609123,  6.4105887,  5.65363  , -1.8536805],\n",
       "        [ 3.8873146, 15.566864 , 19.367874 ,  4.425101 ,  7.3757496],\n",
       "        [ 4.321612 ,  7.296042 ,  6.4735456,  6.42986  ,  1.7329963],\n",
       "        ...,\n",
       "        [ 4.8231063,  3.1073997,  5.4713407, 14.815974 ,  7.2832756],\n",
       "        [11.867576 , 12.018106 ,  4.362502 ,  6.1998825, -5.858029 ],\n",
       "        [26.747648 ,  6.0012712, 10.266795 ,  6.683217 , -3.079881 ]],\n",
       "       dtype=float32),\n",
       " 'probabilities': array([[9.5054960e-01, 2.5534688e-02, 1.6276369e-02, 7.6350947e-03,\n",
       "         4.1920935e-06],\n",
       "        [1.8504475e-07, 2.1859517e-02, 9.7813386e-01, 3.1683567e-07,\n",
       "         6.0573793e-06],\n",
       "        [2.6674587e-02, 5.2224737e-01, 2.2944078e-01, 2.1963334e-01,\n",
       "         2.0039012e-03],\n",
       "        ...,\n",
       "        [4.5693945e-05, 8.2174502e-06, 8.7374290e-05, 9.9932384e-01,\n",
       "         5.3492980e-04],\n",
       "        [4.6158314e-01, 5.3656781e-01, 2.5400243e-04, 1.5951520e-03,\n",
       "         9.2494918e-09],\n",
       "        [9.9999988e-01, 9.7715469e-10, 6.9575442e-08, 1.9325406e-09,\n",
       "         1.1119066e-13]], dtype=float32),\n",
       " 'classes': array([0, 2, 1, 0, 0, 0, 3, 0, 2, 1, 0, 0, 2, 0, 0, 0, 1, 0, 0, 0, 0, 0,\n",
       "        1, 3, 4, 0, 0, 0, 0, 3, 0, 2, 1, 0, 0, 0, 3, 1, 3, 0, 4, 0, 0, 0,\n",
       "        1, 4, 0, 4, 0, 0, 0, 0, 2, 0, 1, 1, 1, 1, 0, 0, 2, 0, 1, 0, 2, 2,\n",
       "        1, 0, 2, 1, 0, 0, 1, 1, 1, 0, 1, 0, 0, 3, 0, 1, 0, 3, 0, 0, 0, 0,\n",
       "        0, 0, 0, 3, 2, 0, 0, 1, 2, 3, 0, 0, 0, 0, 0, 0, 3, 0, 2, 1, 2, 1,\n",
       "        1, 2, 0, 2, 2, 0, 0, 0, 3, 2, 3, 4, 0, 3, 1, 0, 3, 1, 0, 0, 0, 0,\n",
       "        0, 0, 0, 0, 4, 3, 1, 0, 0, 1, 0, 1, 0, 1, 4, 0, 0, 0, 0, 0, 0, 4,\n",
       "        3, 1, 1, 1, 2, 0, 0, 4, 0, 0, 0, 0, 0, 0, 1, 0, 3, 0, 1, 0, 4, 1,\n",
       "        0, 1, 0, 0, 1, 2, 0, 0, 1, 0, 0, 2, 1, 2, 0, 3, 1, 2, 0, 3, 0, 0,\n",
       "        0, 1, 0, 0, 0, 0, 0, 3, 3, 3, 0, 1, 0, 4, 0, 3, 1, 0, 0, 0, 0, 0,\n",
       "        0, 0, 0, 3, 1, 0, 0, 0, 3, 0, 0, 2, 1, 0, 0, 3, 2, 1, 0, 0, 0, 0,\n",
       "        0, 2, 0, 2, 2, 1, 3, 0, 0, 1, 0, 0, 0, 0, 0, 0, 0, 0, 0, 3, 0, 0,\n",
       "        4, 2, 2, 2, 1, 0, 1, 0, 2, 0, 1, 0, 0, 0, 1, 0, 2, 0, 3, 0, 2, 4,\n",
       "        2, 0, 0, 0, 1, 0, 2, 2, 0, 0, 3, 1, 1, 2, 3, 1, 0])}"
      ]
     },
     "execution_count": 137,
     "metadata": {},
     "output_type": "execute_result"
    }
   ],
   "source": [
    "classifier.predict(X)"
   ]
  },
  {
   "cell_type": "code",
   "execution_count": 138,
   "metadata": {},
   "outputs": [
    {
     "name": "stdout",
     "output_type": "stream",
     "text": [
      "INFO:tensorflow:Graph was finalized.\n",
      "INFO:tensorflow:Restoring parameters from /tmp/tmp51l92bpx/model.ckpt-3000\n",
      "INFO:tensorflow:Running local_init_op.\n",
      "INFO:tensorflow:Done running local_init_op.\n"
     ]
    },
    {
     "data": {
      "text/plain": [
       "0.966996699669967"
      ]
     },
     "execution_count": 138,
     "metadata": {},
     "output_type": "execute_result"
    }
   ],
   "source": [
    "from sklearn.metrics import accuracy_score\n",
    "accuracy_score(classifier.predict(X)[\"classes\"],y)"
   ]
  },
  {
   "cell_type": "code",
   "execution_count": 139,
   "metadata": {},
   "outputs": [
    {
     "name": "stderr",
     "output_type": "stream",
     "text": [
      "/home/lweichbrodt/.conda/envs/py3/lib/python3.6/site-packages/sklearn/ensemble/forest.py:246: FutureWarning: The default value of n_estimators will change from 10 in version 0.20 to 100 in 0.22.\n",
      "  \"10 in version 0.20 to 100 in 0.22.\", FutureWarning)\n"
     ]
    },
    {
     "data": {
      "text/plain": [
       "RandomForestClassifier(bootstrap=True, class_weight=None, criterion='gini',\n",
       "            max_depth=None, max_features='auto', max_leaf_nodes=None,\n",
       "            min_impurity_decrease=0.0, min_impurity_split=None,\n",
       "            min_samples_leaf=1, min_samples_split=2,\n",
       "            min_weight_fraction_leaf=0.0, n_estimators=10, n_jobs=None,\n",
       "            oob_score=False, random_state=None, verbose=0,\n",
       "            warm_start=False)"
      ]
     },
     "execution_count": 139,
     "metadata": {},
     "output_type": "execute_result"
    }
   ],
   "source": [
    "from sklearn.ensemble import RandomForestClassifier\n",
    "\n",
    "rfr=RandomForestClassifier()\n",
    "rfr.fit(X,y)\n"
   ]
  },
  {
   "cell_type": "code",
   "execution_count": 140,
   "metadata": {},
   "outputs": [
    {
     "data": {
      "text/plain": [
       "0.9801980198019802"
      ]
     },
     "execution_count": 140,
     "metadata": {},
     "output_type": "execute_result"
    }
   ],
   "source": [
    "accuracy_score(rfr.predict(X),y)"
   ]
  },
  {
   "cell_type": "code",
   "execution_count": null,
   "metadata": {},
   "outputs": [],
   "source": []
  },
  {
   "cell_type": "code",
   "execution_count": null,
   "metadata": {},
   "outputs": [],
   "source": []
  }
 ],
 "metadata": {
  "kernelspec": {
   "display_name": "Python 3",
   "language": "python",
   "name": "python3"
  },
  "language_info": {
   "codemirror_mode": {
    "name": "ipython",
    "version": 3
   },
   "file_extension": ".py",
   "mimetype": "text/x-python",
   "name": "python",
   "nbconvert_exporter": "python",
   "pygments_lexer": "ipython3",
   "version": "3.6.8"
  }
 },
 "nbformat": 4,
 "nbformat_minor": 2
}
